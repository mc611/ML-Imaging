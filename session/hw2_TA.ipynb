{
 "cells": [
  {
   "cell_type": "code",
   "execution_count": null,
   "metadata": {},
   "outputs": [],
   "source": [
    "# 2e  TA \n",
    "\n",
    "# from mpl_toolkits.mplot3d import Axes3D\n",
    "\n",
    "\n",
    "# def visualize_model(features, labels, weights):\n",
    "#     fig = plt.figure()\n",
    "#     ax = fig.add_subplot(111,projection='3d')\n",
    "    \n",
    "#     ngrid = 2\n",
    "    \n",
    "#     #create 0 plane\n",
    "#     x0 = np.linspace(features[:,0].min(),features[:,0].max(),ngrid)\n",
    "#     x1 = np.linspace(features[:,1].min(),features[:,1].max(),ngrid)\n",
    "#     x0,x1 = np.meshgrid(x0,x1)\n",
    "#     z = np.zeros(x0.shape)\n",
    "#     ax.plot_surface(x0,x1,z,alpha=0.2)\n",
    "    \n",
    "#     # create calculated plane\n",
    "#     zs = np.array([ np.array([x,y])@weights for x,y in zip(np.ravel(x0),np.ravel(x1))])\n",
    "#     zs = zs.reshape(x0.shape)\n",
    "#     xx = np.linspace(features[:,0].min(),features[:,0].max())\n",
    "#     a = -weights[0]/weights[1]\n",
    "#     yy = a*xx\n",
    "#     ax.plot_surface(x0,x1,zs,alpha=0.2)\n",
    "    \n",
    "#     #plot points\n",
    "#     X_features_a = X_features[np.where(y_train==number_a)]\n",
    "#     X_features_b = X_features[np.where(y_train==number_b)]\n",
    "#     plt.plot(X_features_a[:,0],X_features_a[:,1],1,'.')\n",
    "#     plt.plot(X_features_b[:,0],X_features_a[:,1],-1,'.')\n",
    "#     plt.plot(xx,yy,'k-')\n",
    "#     plt.show()\n",
    "# visualize_model(X_features, train_label, w)"
   ]
  },
  {
   "cell_type": "code",
   "execution_count": null,
   "metadata": {},
   "outputs": [],
   "source": [
    "# 2e in function part\n",
    "\n",
    "# def visualize_model(features, labels, weights):\n",
    "    \n",
    "#     X_features = np.apply_along_axis(compute_features, 1,\n",
    "#                                  X_train.reshape(X_train.shape[0], X_train.shape[1]*X_train.shape[2]))\n",
    "\n",
    "#     X_features_a = X_features[np.where(y_train==number_a)]\n",
    "#     X_features_b = X_features[np.where(y_train==number_b)]\n",
    "\n",
    "#     plt.figure(figsize=(5,5))\n",
    "#     plt.plot(X_features_a[:, 0], X_features_a[:, 1], '.')\n",
    "#     plt.plot(X_features_b[:, 0], X_features_b[:, 1], '.')\n",
    "#     plt.xlabel('feature_a')\n",
    "#     plt.ylabel('feature_b')\n",
    "#     plt.ylim(X_features[:, 1].min(), X_features[:, 1].max()) \n",
    "    \n",
    "#     xx = np.linspace(features[:,0].min(),features[:,0].max())\n",
    "#     a = -weights[0]/weights[1]\n",
    "#     yy = a*xx\n",
    "#     plt.plot(xx,yy,'k-')\n",
    "    \n",
    "#     return  plt.show()"
   ]
  }
 ],
 "metadata": {
  "kernelspec": {
   "display_name": "Python 3",
   "language": "python",
   "name": "python3"
  },
  "language_info": {
   "codemirror_mode": {
    "name": "ipython",
    "version": 3
   },
   "file_extension": ".py",
   "mimetype": "text/x-python",
   "name": "python",
   "nbconvert_exporter": "python",
   "pygments_lexer": "ipython3",
   "version": "3.5.3"
  }
 },
 "nbformat": 4,
 "nbformat_minor": 2
}
