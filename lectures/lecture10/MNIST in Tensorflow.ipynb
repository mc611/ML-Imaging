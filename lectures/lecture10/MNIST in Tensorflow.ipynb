{
 "cells": [
  {
   "cell_type": "code",
   "execution_count": 1,
   "metadata": {},
   "outputs": [
    {
     "name": "stdout",
     "output_type": "stream",
     "text": [
      "Already downloaded train-images-idx3-ubyte.gz\n",
      "Already downloaded train-labels-idx1-ubyte.gz\n",
      "Already downloaded t10k-images-idx3-ubyte.gz\n",
      "Already downloaded t10k-labels-idx1-ubyte.gz\n",
      "Extracting /tmp/mnist-data/train-images-idx3-ubyte.gz\n",
      "Extracting /tmp/mnist-data/t10k-images-idx3-ubyte.gz\n",
      "Extracting /tmp/mnist-data/train-labels-idx1-ubyte.gz\n",
      "Extracting /tmp/mnist-data/t10k-labels-idx1-ubyte.gz\n",
      "Validation shape (5000, 28, 28, 1)\n",
      "Train size 55000\n"
     ]
    }
   ],
   "source": [
    "# Function to get data\n",
    "\n",
    "import os\n",
    "from six.moves.urllib.request import urlretrieve\n",
    "import gzip, binascii, struct, numpy\n",
    "\n",
    "SOURCE_URL = 'https://storage.googleapis.com/cvdf-datasets/mnist/'\n",
    "WORK_DIRECTORY = \"/tmp/mnist-data\"\n",
    "IMAGE_SIZE = 28\n",
    "PIXEL_DEPTH = 255\n",
    "VALIDATION_SIZE = 5000\n",
    "NUM_LABELS = 10\n",
    "\n",
    "def maybe_download(filename):\n",
    "    \"\"\"A helper to download the data files if not present.\"\"\"\n",
    "    if not os.path.exists(WORK_DIRECTORY):\n",
    "        os.mkdir(WORK_DIRECTORY)\n",
    "    filepath = os.path.join(WORK_DIRECTORY, filename)\n",
    "    if not os.path.exists(filepath):\n",
    "        filepath, _ = urlretrieve(SOURCE_URL + filename, filepath)\n",
    "        statinfo = os.stat(filepath)\n",
    "        print('Successfully downloaded', filename, statinfo.st_size, 'bytes.')\n",
    "    else:\n",
    "        print('Already downloaded', filename)\n",
    "    return filepath\n",
    "\n",
    "def extract_data(filename, num_images):\n",
    "    \"\"\"Extract the images into a 4D tensor [image index, y, x, channels].\n",
    "  \n",
    "    For MNIST data, the number of channels is always 1.\n",
    "\n",
    "    Values are rescaled from [0, 255] down to [-0.5, 0.5].\n",
    "    \"\"\"\n",
    "    print('Extracting', filename)\n",
    "    with gzip.open(filename) as bytestream:\n",
    "        # Skip the magic number and dimensions; we know these values.\n",
    "        bytestream.read(16)\n",
    "\n",
    "        buf = bytestream.read(IMAGE_SIZE * IMAGE_SIZE * num_images)\n",
    "        data = numpy.frombuffer(buf, dtype=numpy.uint8).astype(numpy.float32)\n",
    "        data = (data - (PIXEL_DEPTH / 2.0)) / PIXEL_DEPTH\n",
    "        data = data.reshape(num_images, IMAGE_SIZE, IMAGE_SIZE, 1)\n",
    "        return data\n",
    "\n",
    "def extract_labels(filename, num_images):\n",
    "    \"\"\"Extract the labels into a 1-hot matrix [image index, label index].\"\"\"\n",
    "    print('Extracting', filename)\n",
    "    with gzip.open(filename) as bytestream:\n",
    "        # Skip the magic number and count; we know these values.\n",
    "        bytestream.read(8)\n",
    "        buf = bytestream.read(1 * num_images)\n",
    "        labels = numpy.frombuffer(buf, dtype=numpy.uint8)\n",
    "    # Convert to dense 1-hot representation.\n",
    "    return (numpy.arange(NUM_LABELS) == labels[:, None]).astype(numpy.float32)\n",
    "\n",
    "def get_data():\n",
    "    train_data_filename = maybe_download('train-images-idx3-ubyte.gz')\n",
    "    train_labels_filename = maybe_download('train-labels-idx1-ubyte.gz')\n",
    "    test_data_filename = maybe_download('t10k-images-idx3-ubyte.gz')\n",
    "    test_labels_filename = maybe_download('t10k-labels-idx1-ubyte.gz')\n",
    "\n",
    "    train_data = extract_data(train_data_filename, 60000)\n",
    "    test_data = extract_data(test_data_filename, 10000)\n",
    "    train_labels = extract_labels(train_labels_filename, 60000)\n",
    "    test_labels = extract_labels(test_labels_filename, 10000)\n",
    "\n",
    "    validation_data = train_data[:VALIDATION_SIZE, :, :, :]\n",
    "    validation_labels = train_labels[:VALIDATION_SIZE]\n",
    "    train_data = train_data[VALIDATION_SIZE:, :, :, :]\n",
    "    train_labels = train_labels[VALIDATION_SIZE:]\n",
    "    train_size = train_labels.shape[0]\n",
    "    print('Validation shape', validation_data.shape)\n",
    "    print('Train size', train_size)\n",
    "    \n",
    "    return train_data, train_labels, validation_data, validation_labels\n",
    "X_train, y_train, X_val, y_val = mnist_data.get_data()"
   ]
  },
  {
   "cell_type": "code",
   "execution_count": 2,
   "metadata": {
    "scrolled": true
   },
   "outputs": [
    {
     "name": "stdout",
     "output_type": "stream",
     "text": [
      "Training data shape (55000, 28, 28, 1)\n"
     ]
    },
    {
     "data": {
      "image/png": "[encoded data removed]",
      "text/plain": [
       "<Figure size 432x288 with 2 Axes>"
      ]
     },
     "metadata": {},
     "output_type": "display_data"
    }
   ],
   "source": [
    "from matplotlib import pyplot as plt\n",
    "%matplotlib inline\n",
    "\n",
    "print('Training data shape', X_train.shape)\n",
    "_, (ax1, ax2) = plt.subplots(1, 2)\n",
    "ax1.imshow(X_train[0].reshape(28, 28), cmap=plt.cm.Greys);\n",
    "ax2.imshow(X_train[1].reshape(28, 28), cmap=plt.cm.Greys);"
   ]
  },
  {
   "cell_type": "code",
   "execution_count": 3,
   "metadata": {},
   "outputs": [],
   "source": [
    "import tensorflow as tf\n",
    "\n",
    "features_placeholder = tf.placeholder(tf.float32, [None, 28, 28, 1])\n",
    "labels_placeholder = tf.placeholder(tf.float32, [None, 10])\n",
    "batch_size_placeholder = tf.placeholder(tf.int64, [])\n",
    "\n",
    "dataset = tf.data.Dataset.from_tensor_slices((features_placeholder, labels_placeholder))\n",
    "dataset = dataset.batch(batch_size_placeholder)\n",
    "dataset = dataset.repeat(100)\n",
    "iterator = dataset.make_initializable_iterator()\n",
    "x_batch, y_batch = iterator.get_next()"
   ]
  },
  {
   "cell_type": "code",
   "execution_count": 4,
   "metadata": {},
   "outputs": [
    {
     "name": "stdout",
     "output_type": "stream",
     "text": [
      "Done\n"
     ]
    }
   ],
   "source": [
    "# Weights Init\n",
    "conv1_weights = tf.get_variable(\"conv1\", shape=[5, 5, 1, 32], initializer=tf.contrib.layers.xavier_initializer())\n",
    "conv1_biases  = tf.get_variable(\"conv1_bias\", shape=[32], initializer=tf.zeros_initializer())\n",
    "\n",
    "conv2_weights = tf.get_variable(\"conv2\", shape=[5, 5, 32, 64], initializer=tf.contrib.layers.xavier_initializer())\n",
    "conv2_biases  = tf.get_variable(\"conv2_bias\", shape=[64], initializer=tf.zeros_initializer())\n",
    "\n",
    "fc1_weights = tf.get_variable(\"fc1\", shape=[7*7*64, 512], initializer=tf.contrib.layers.xavier_initializer())\n",
    "fc1_biases = tf.get_variable(\"fc1_bias\", shape=[512], initializer=tf.zeros_initializer())\n",
    "\n",
    "fc2_weights = tf.get_variable(\"fc2\", shape=[512, 10], initializer=tf.contrib.layers.xavier_initializer())\n",
    "fc2_biases = tf.get_variable(\"fc2_bias\", shape=[10], initializer=tf.zeros_initializer())\n",
    "\n",
    "def model(data):\n",
    "    \"\"\"The Model definition.\"\"\"\n",
    "    conv = tf.nn.conv2d(data, conv1_weights, strides=[1, 1, 1, 1], padding='SAME')\n",
    "    relu = tf.nn.relu(tf.nn.bias_add(conv, conv1_biases))\n",
    "    pool = tf.nn.max_pool(relu, ksize=[1, 2, 2, 1], strides=[1, 2, 2, 1], padding='SAME')\n",
    "    \n",
    "    conv = tf.nn.conv2d(pool, conv2_weights, strides=[1, 1, 1, 1], padding='SAME')\n",
    "    relu = tf.nn.relu(tf.nn.bias_add(conv, conv2_biases))\n",
    "    pool = tf.nn.max_pool(relu, ksize=[1, 2, 2, 1], strides=[1, 2, 2, 1], padding='SAME')\n",
    "\n",
    "    pool_shape = pool.get_shape().as_list()\n",
    "    reshape = tf.reshape(pool, [-1, pool_shape[1] * pool_shape[2] * pool_shape[3]])\n",
    "    hidden = tf.nn.relu(tf.matmul(reshape, fc1_weights) + fc1_biases)\n",
    "\n",
    "    return tf.matmul(hidden, fc2_weights) + fc2_biases\n",
    "\n",
    "print('Done')\n",
    "\n"
   ]
  },
  {
   "cell_type": "code",
   "execution_count": 5,
   "metadata": {},
   "outputs": [],
   "source": [
    "counter = tf.Variable(0)\n",
    "logits = model(x_batch)\n",
    "prediction = tf.nn.softmax(logits)\n",
    "\n",
    "loss = tf.reduce_mean(tf.nn.softmax_cross_entropy_with_logits_v2(labels=y_batch, logits=logits))\n",
    "optimizer = tf.train.GradientDescentOptimizer(learning_rate = 1e-1)\n",
    "train_op = optimizer.minimize(loss, global_step=counter)"
   ]
  },
  {
   "cell_type": "code",
   "execution_count": 6,
   "metadata": {},
   "outputs": [],
   "source": [
    "sess = tf.Session()\n",
    "tf.global_variables_initializer().run(session=sess)\n",
    "sess.run(iterator.initializer, feed_dict={features_placeholder: X_train, labels_placeholder: y_train, batch_size_placeholder: 64})\n",
    "\n"
   ]
  },
  {
   "cell_type": "code",
   "execution_count": 7,
   "metadata": {},
   "outputs": [
    {
     "name": "stdout",
     "output_type": "stream",
     "text": [
      "loss:  2.3070822\n",
      "loss:  0.1530393\n",
      "loss:  0.0068216682\n",
      "loss:  0.0033742092\n",
      "loss:  0.011832637\n"
     ]
    }
   ],
   "source": [
    "steps = y_train.shape[0]*5 // 64\n",
    "for step in range(steps):\n",
    "    _, l = sess.run([train_op, loss])\n",
    "    if step % 1000 == 0:\n",
    "        print('loss: ', l)"
   ]
  },
  {
   "cell_type": "code",
   "execution_count": 9,
   "metadata": {},
   "outputs": [],
   "source": [
    "sess.run(iterator.initializer, feed_dict={features_placeholder: X_val, labels_placeholder: y_val, batch_size_placeholder: y_val.shape[0]})"
   ]
  },
  {
   "cell_type": "code",
   "execution_count": 10,
   "metadata": {},
   "outputs": [],
   "source": [
    "np_pred, np_loss, np_labels = sess.run([prediction, loss, y_batch])"
   ]
  },
  {
   "cell_type": "code",
   "execution_count": 11,
   "metadata": {},
   "outputs": [
    {
     "data": {
      "text/plain": [
       "array([[478,   0,   0,   0,   0,   0,   2,   0,   0,   1],\n",
       "       [  0, 561,   1,   0,   0,   1,   2,   2,   1,   1],\n",
       "       [  1,   0, 486,   5,   0,   1,   2,   3,   8,   1],\n",
       "       [  0,   0,   0, 484,   0,   1,   0,   0,   1,   0],\n",
       "       [  0,   0,   0,   0, 533,   0,   0,   1,   1,   1],\n",
       "       [  0,   0,   0,   0,   0, 429,   0,   1,   1,   0],\n",
       "       [  0,   0,   0,   0,   0,   0, 495,   0,   1,   1],\n",
       "       [  0,   2,   0,   3,   1,   0,   0, 543,   0,   5],\n",
       "       [  0,   0,   0,   0,   0,   1,   0,   0, 448,   1],\n",
       "       [  0,   0,   1,   1,   1,   1,   0,   0,   1, 484]])"
      ]
     },
     "execution_count": 11,
     "metadata": {},
     "output_type": "execute_result"
    }
   ],
   "source": [
    "from sklearn.metrics import confusion_matrix\n",
    "import numpy as np\n",
    "confusion_matrix(np.argmax(np_pred, axis=1), np.argmax(np_labels, axis=1))"
   ]
  },
  {
   "cell_type": "code",
   "execution_count": 12,
   "metadata": {},
   "outputs": [
    {
     "name": "stdout",
     "output_type": "stream",
     "text": [
      "Training data shape (55000, 28, 28, 1)\n"
     ]
    },
    {
     "data": {
      "image/png": "[encoded data removed]",
      "text/plain": [
       "<Figure size 432x288 with 2 Axes>"
      ]
     },
     "metadata": {},
     "output_type": "display_data"
    }
   ],
   "source": [
    "# View images that we failed to classify out of interest\n",
    "\n",
    "from matplotlib import pyplot as plt\n",
    "%matplotlib inline\n",
    "\n",
    "print('Training data shape', X_train.shape)\n",
    "_, (ax1, ax2) = plt.subplots(1, 2)\n",
    "ax1.imshow(X_val[~(np.argmax(np_pred, axis=1)==np.argmax(np_labels, axis=1))][32].reshape(28, 28), cmap=plt.cm.Greys);\n",
    "ax2.imshow(X_val[~(np.argmax(np_pred, axis=1)==np.argmax(np_labels, axis=1))][30].reshape(28, 28), cmap=plt.cm.Greys);\n",
    "\n"
   ]
  }
 ],
 "metadata": {
  "kernelspec": {
   "display_name": "Python 3",
   "language": "python",
   "name": "python3"
  },
  "language_info": {
   "codemirror_mode": {
    "name": "ipython",
    "version": 3
   },
   "file_extension": ".py",
   "mimetype": "text/x-python",
   "name": "python",
   "nbconvert_exporter": "python",
   "pygments_lexer": "ipython3",
   "version": "3.5.3"
  }
 },
 "nbformat": 4,
 "nbformat_minor": 2
}
